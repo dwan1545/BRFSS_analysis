{
 "cells": [
  {
   "cell_type": "code",
   "execution_count": 9,
   "metadata": {},
   "outputs": [
    {
     "data": {
      "text/html": [
       "        <script type=\"text/javascript\">\n",
       "        window.PlotlyConfig = {MathJaxConfig: 'local'};\n",
       "        if (window.MathJax) {MathJax.Hub.Config({SVG: {font: \"STIX-Web\"}});}\n",
       "        if (typeof require !== 'undefined') {\n",
       "        require.undef(\"plotly\");\n",
       "        requirejs.config({\n",
       "            paths: {\n",
       "                'plotly': ['https://cdn.plot.ly/plotly-latest.min']\n",
       "            }\n",
       "        });\n",
       "        require(['plotly'], function(Plotly) {\n",
       "            window._Plotly = Plotly;\n",
       "        });\n",
       "        }\n",
       "        </script>\n",
       "        "
      ]
     },
     "metadata": {},
     "output_type": "display_data"
    }
   ],
   "source": [
    "#all imports for this workbook\n",
    "\n",
    "import numpy as np\n",
    "import pandas as pd\n",
    "import time\n",
    "import xport\n",
    "\n",
    "import warnings\n",
    "warnings.filterwarnings('ignore')\n",
    "\n",
    "%matplotlib inline \n",
    "%config InlineBackend.figure_format='retina'\n",
    "\n",
    "import matplotlib as mpl\n",
    "from matplotlib import pyplot as plt\n",
    "import seaborn as sns\n",
    "sns.set_style('dark')\n",
    "\n",
    "#for choropleth maps\n",
    "import plotly\n",
    "import plotly.plotly as py\n",
    "import plotly.graph_objs as go\n",
    "import plotly.io as pio\n",
    "plotly.offline.init_notebook_mode(connected=True)"
   ]
  },
  {
   "cell_type": "code",
   "execution_count": 2,
   "metadata": {},
   "outputs": [],
   "source": [
    "from cycler import cycler\n",
    "# Update matplotlib defaults to something nicer, including the tableau 20 colormap \n",
    "mpl_update = {'font.size':16,\n",
    "              'xtick.labelsize':14,\n",
    "              'ytick.labelsize':14,\n",
    "              'figure.figsize':[16,9],\n",
    "              'axes.labelsize':20,\n",
    "#               'axes.labelcolor':'#677385',\n",
    "              'axes.titlesize':20,\n",
    "              'lines.color':'#0055A7',\n",
    "              'lines.linewidth':3,\n",
    "#               'text.color':'#677385',\n",
    "              'axes.prop_cycle': cycler('color', ['#1f77b4','#aec7e8','#ff7f0e','#ffbb78','#2ca02c',\n",
    "                                                  '#98df8a','#d62728','#ff9896','#9467bd','#c5b0d5',\n",
    "                                                  '#8c564b','#c49c94','#e377c2','#f7b6d2','#7f7f7f',\n",
    "                                                  '#c7c7c7','#bcbd22','#dbdb8d','#17becf','#9edae5'])\n",
    "             }\n",
    "mpl.rcParams.update(mpl_update)"
   ]
  },
  {
   "cell_type": "code",
   "execution_count": 6,
   "metadata": {},
   "outputs": [],
   "source": [
    "#change these paths as necessary\n",
    "data_path = '/Users/dhawan/Documents/K2/exploratory_analysis/health_project/data/raw/'\n",
    "hdf_path = '/Users/dhawan/Documents/K2/exploratory_analysis/health_project/data/interim/brfss.h5'"
   ]
  },
  {
   "cell_type": "markdown",
   "metadata": {},
   "source": [
    "# Read in 5 Years of Data\n",
    "\n",
    "In this notebook, we'll take the analysis 1 step further by downloading, cleaning and storing BRFSS data for the past 5 years rather than just 2017. As we're building the dataset, we'll get a flavor for what variables are available across all 5 years, which will inform how much analysis we can do.\n",
    "\n",
    "To start, just like you did for the 2017 data set, download the 2013 - 2016 datasets from the BRFSS website in .xpt format. Remember to unzip the files and take the trailing space out of the file names, and update the data_path variable as necessary."
   ]
  },
  {
   "cell_type": "code",
   "execution_count": 7,
   "metadata": {},
   "outputs": [
    {
     "data": {
      "text/plain": [
       "['/Users/dhawan/Documents/K2/exploratory_analysis/health_project/data/raw/LLCP2013.XPT',\n",
       " '/Users/dhawan/Documents/K2/exploratory_analysis/health_project/data/raw/LLCP2014.XPT',\n",
       " '/Users/dhawan/Documents/K2/exploratory_analysis/health_project/data/raw/LLCP2015.XPT',\n",
       " '/Users/dhawan/Documents/K2/exploratory_analysis/health_project/data/raw/LLCP2016.XPT',\n",
       " '/Users/dhawan/Documents/K2/exploratory_analysis/health_project/data/raw/LLCP2017.XPT']"
      ]
     },
     "execution_count": 7,
     "metadata": {},
     "output_type": "execute_result"
    }
   ],
   "source": [
    "#read the xpt files into a pandas DataFrame\n",
    "\n",
    "file_names = [data_path + 'LLCP' + str(x) + '.XPT' for x in range(2013,2018,1)]\n",
    "file_names"
   ]
  },
  {
   "cell_type": "code",
   "execution_count": 10,
   "metadata": {},
   "outputs": [
    {
     "name": "stdout",
     "output_type": "stream",
     "text": [
      "/Users/dhawan/Documents/K2/exploratory_analysis/health_project/data/raw/LLCP2013.XPT\n",
      "/Users/dhawan/Documents/K2/exploratory_analysis/health_project/data/raw/LLCP2014.XPT\n",
      "/Users/dhawan/Documents/K2/exploratory_analysis/health_project/data/raw/LLCP2015.XPT\n",
      "/Users/dhawan/Documents/K2/exploratory_analysis/health_project/data/raw/LLCP2016.XPT\n",
      "/Users/dhawan/Documents/K2/exploratory_analysis/health_project/data/raw/LLCP2017.XPT\n",
      "Sucessfully read all DataFrames in 2322.9990870952606 seconds\n"
     ]
    }
   ],
   "source": [
    "tic = time.time()\n",
    "\n",
    "#create a giant dataframe for all 5 years\n",
    "for year in file_names:\n",
    "    with open(year, 'rb') as f:\n",
    "        if (year==file_names[0]): df = xport.to_dataframe(f)\n",
    "        else: df = pd.concat([df, xport.to_dataframe(f)], ignore_index=True)\n",
    "        print(year)\n",
    "\n",
    "toc = time.time()\n",
    "print(\"Sucessfully read all DataFrames in {} seconds\".format(toc-tic))"
   ]
  },
  {
   "cell_type": "code",
   "execution_count": 11,
   "metadata": {},
   "outputs": [
    {
     "name": "stdout",
     "output_type": "stream",
     "text": [
      "<class 'pandas.core.frame.DataFrame'>\n",
      "RangeIndex: 2334212 entries, 0 to 2334211\n",
      "Columns: 522 entries, ACTIN11_ to _WT2RAKE\n",
      "dtypes: float64(507), object(15)\n",
      "memory usage: 9.1+ GB\n"
     ]
    }
   ],
   "source": [
    "df.info()"
   ]
  },
  {
   "cell_type": "code",
   "execution_count": 12,
   "metadata": {},
   "outputs": [],
   "source": [
    "#pythonize the column names\n",
    "df.columns = [x.lower() for x in df.columns]"
   ]
  },
  {
   "cell_type": "code",
   "execution_count": 13,
   "metadata": {},
   "outputs": [],
   "source": [
    "# store the entire dataset in an HDF store\n",
    "df.to_hdf(hdf_path, 'raw_13_17')"
   ]
  },
  {
   "cell_type": "markdown",
   "metadata": {},
   "source": [
    "### Remove Columns and Optimize Dataframe\n",
    "\n",
    "Now we follow a similar methodology as in notebook 1.0 to clean and optimize the dataset."
   ]
  },
  {
   "cell_type": "code",
   "execution_count": 15,
   "metadata": {},
   "outputs": [
    {
     "data": {
      "text/plain": [
       "0    01092013\n",
       "1    01192013\n",
       "2    01192013\n",
       "3    01112013\n",
       "4    02062013\n",
       "Name: idate, dtype: object"
      ]
     },
     "execution_count": 15,
     "metadata": {},
     "output_type": "execute_result"
    }
   ],
   "source": [
    "df.idate.head()"
   ]
  },
  {
   "cell_type": "code",
   "execution_count": 18,
   "metadata": {},
   "outputs": [],
   "source": [
    "#convert idate column to datetime object and extract year\n",
    "def convert_date(x):\n",
    "    try:\n",
    "        return pd.to_datetime(x, format='%m%d%Y')\n",
    "    except:    #some dates in 2014 dataset are illegal (e.g., 09312014)\n",
    "        return pd.to_datetime(x[:2]+'01'+x[-4:], format='%m%d%Y')\n",
    "\n",
    "df['date'] = df.idate.apply(lambda x: convert_date(x))\n",
    "df['year'] = df.date.apply(lambda x: x.year)"
   ]
  },
  {
   "cell_type": "code",
   "execution_count": 19,
   "metadata": {},
   "outputs": [
    {
     "name": "stdout",
     "output_type": "stream",
     "text": [
      "CPU times: user 81.9 ms, sys: 68.4 ms, total: 150 ms\n",
      "Wall time: 274 ms\n"
     ]
    }
   ],
   "source": [
    "# load the raw_17 dataset and extract columns prior to renaming\n",
    "%time df_17 = pd.read_hdf(hdf_path, 'trim_17')\n",
    "cols_17 = df_17.columns"
   ]
  },
  {
   "cell_type": "code",
   "execution_count": 20,
   "metadata": {},
   "outputs": [],
   "source": [
    "#trim the all_years data set to have the same columns as the 2017 dataset\n",
    "df = df.loc[:, cols_17]"
   ]
  },
  {
   "cell_type": "code",
   "execution_count": 21,
   "metadata": {},
   "outputs": [],
   "source": [
    "#fill na's with -1, downcast floats to ints\n",
    "df =  df.fillna(-1)\\\n",
    "        .select_dtypes(include=['int','float'])\\\n",
    "        .astype('int')\\\n",
    "        .apply(pd.to_numeric, downcast='integer')"
   ]
  },
  {
   "cell_type": "code",
   "execution_count": 22,
   "metadata": {},
   "outputs": [
    {
     "name": "stdout",
     "output_type": "stream",
     "text": [
      "<class 'pandas.core.frame.DataFrame'>\n",
      "RangeIndex: 2334212 entries, 0 to 2334211\n",
      "Columns: 90 entries, _state to year\n",
      "dtypes: int16(5), int32(2), int8(83)\n",
      "memory usage: 224.8 MB\n"
     ]
    }
   ],
   "source": [
    "df.info(verbose=False, memory_usage='deep')"
   ]
  },
  {
   "cell_type": "code",
   "execution_count": 23,
   "metadata": {},
   "outputs": [],
   "source": [
    "# store the trimmed and datatype optimized dataset in an HDF store\n",
    "df.to_hdf(hdf_path, 'trim_13_17')"
   ]
  }
 ],
 "metadata": {
  "kernelspec": {
   "display_name": "Python 3",
   "language": "python",
   "name": "python3"
  },
  "language_info": {
   "codemirror_mode": {
    "name": "ipython",
    "version": 3
   },
   "file_extension": ".py",
   "mimetype": "text/x-python",
   "name": "python",
   "nbconvert_exporter": "python",
   "pygments_lexer": "ipython3",
   "version": "3.6.5"
  }
 },
 "nbformat": 4,
 "nbformat_minor": 2
}
